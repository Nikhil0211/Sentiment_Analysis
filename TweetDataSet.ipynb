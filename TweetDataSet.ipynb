{
 "cells": [
  {
   "cell_type": "code",
   "execution_count": 4,
   "id": "ab231434-0029-430b-b1d1-58b08d7f1512",
   "metadata": {},
   "outputs": [
    {
     "name": "stdin",
     "output_type": "stream",
     "text": [
      "enter # tag or your Query:  #AppleEvent\n"
     ]
    }
   ],
   "source": [
    "import tweepy \n",
    "try:\n",
    "    access_token = '3125230110-3sjOc8K3XBvhXHatwcxgba9HBXlvhSfCeUw6Mbs'\n",
    "    access_token_secret = 'vZASHAFxvcLlRVbJ3FZ5GBalfHgo5e9Zx0qZBCj7dkAL9'\n",
    "    consumer_key = 'JTV5B4KVXbtjgMUQ29QyI4mBS'\n",
    "    consumer_secret = 'RpBPkuaU5gLOIWHDwxYKXyXGvKG6eBWJemhQT5DCHYms5zLBpz'\n",
    "    auth = tweepy.OAuthHandler(consumer_key, consumer_secret) \n",
    "    auth.set_access_token(access_token, access_token_secret)\n",
    "    api = tweepy.API(auth, wait_on_rate_limit=True)\n",
    "    q=input('enter # tag or your Query: ')\n",
    "    tweets = tweepy.Cursor(api.search_tweets, q, lang= 'en', count= 100).items(1000) \n",
    "except: \n",
    "    print(\"Error: Authentication Failed\")\n",
    "\n",
    "import pandas as pd \n",
    "import re\n",
    "\n",
    "\n",
    "tweet_text = []\n",
    "for tweet in tweets: \n",
    "    parsedTweets = {}\n",
    "    parsedTweets['text'] = tweet.text\n",
    "    if tweet.retweet_count>0: \n",
    "        if parsedTweets not in tweet_text:\n",
    "            tweet_text.append(parsedTweets) \n",
    "    else: \n",
    "        tweet_text.append(parsedTweets)\n",
    "\n",
    "tweetsDataFrame = pd.DataFrame(tweet_text)\n",
    "tweetsDataFrame = tweetsDataFrame.drop_duplicates()\n",
    "tweetsDataFrame.to_csv('Tweets.csv', index = False) \n",
    "print('Collected All Tweets!!')"
   ]
  }
 ],
 "metadata": {
  "kernelspec": {
   "display_name": "Python 3",
   "language": "python",
   "name": "python3"
  },
  "language_info": {
   "codemirror_mode": {
    "name": "ipython",
    "version": 3
   },
   "file_extension": ".py",
   "mimetype": "text/x-python",
   "name": "python",
   "nbconvert_exporter": "python",
   "pygments_lexer": "ipython3",
   "version": "3.8.8"
  }
 },
 "nbformat": 4,
 "nbformat_minor": 5
}

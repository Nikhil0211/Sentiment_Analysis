{
 "cells": [
  {
   "cell_type": "code",
   "execution_count": 39,
   "id": "67c668e7-2075-430c-87f8-aa456ce2afb9",
   "metadata": {
    "tags": []
   },
   "outputs": [],
   "source": [
    "import nltk\n",
    "import re                                  # library for regular expression operations\n",
    "import string                              # for string operations\n",
    "import numpy as np\n",
    "import pandas as pd\n",
    "from nltk.corpus import twitter_samples\n",
    "from nltk.corpus import stopwords          # module for stop words that come with NLTK\n",
    "from nltk.stem import PorterStemmer        # module for stemming\n",
    "from nltk.tokenize import TweetTokenizer   # module for tokenizing strings\n",
    "nltk.download('twitter_samples', quiet=True)\n",
    "nltk.download('stopwords', quiet=True)\n",
    "all_positive_tweets = twitter_samples.strings('positive_tweets.json')\n",
    "all_negative_tweets = twitter_samples.strings('negative_tweets.json')"
   ]
  },
  {
   "cell_type": "code",
   "execution_count": 39,
   "id": "b98c49f7-03b9-4106-ab9c-ab05685d4a16",
   "metadata": {},
   "outputs": [],
   "source": [
    "def remove_hyperlinks_marks_styles(tweet):\n",
    "    new_tweet = re.sub(r'^RT[\\s]+', '', tweet)\n",
    "    new_tweet = re.sub(r'https?:\\/\\/.*[\\r\\n]*', '', new_tweet)\n",
    "    new_tweet = re.sub(r'#', '', new_tweet)\n",
    "    return new_tweet\n",
    "tokenizer = TweetTokenizer(preserve_case=False, strip_handles=True,reduce_len=True)"
   ]
  },
  {
   "cell_type": "code",
   "execution_count": 39,
   "id": "0dc9fbf2-cf48-40c8-9ede-99336039980c",
   "metadata": {},
   "outputs": [],
   "source": [
    "def tokenize_tweet(tweet):\n",
    "    tweet_tokens = tokenizer.tokenize(tweet)\n",
    "    return tweet_tokens\n",
    "stopwords_english = stopwords.words('english')\n",
    "punctuations = string.punctuation"
   ]
  },
  {
   "cell_type": "code",
   "execution_count": 39,
   "id": "6b88a634-8df3-463e-ba2b-ae09ad44ccc6",
   "metadata": {},
   "outputs": [],
   "source": [
    "def remove_stopwords_punctuations(tweet_tokens):\n",
    "    tweets_clean = []\n",
    "    for word in tweet_tokens:\n",
    "        if (word not in stopwords_english and word not in punctuations):\n",
    "            tweets_clean.append(word)\n",
    "    return tweets_clean\n",
    "stemmer = PorterStemmer()\n",
    "\n",
    "def get_stem(tweets_clean):\n",
    "    tweets_stem = []\n",
    "    for word in tweets_clean:\n",
    "        stem_word = stemmer.stem(word)\n",
    "        tweets_stem.append(stem_word)\n",
    "    return tweets_stem\n",
    "\n",
    "def process_tweet(tweet):\n",
    "    processed_tweet = remove_hyperlinks_marks_styles(tweet)\n",
    "    tweet_tokens = tokenize_tweet(processed_tweet)\n",
    "    tweets_clean = remove_stopwords_punctuations(tweet_tokens)\n",
    "    tweets_stem = get_stem(tweets_clean)\n",
    "    return tweets_stem"
   ]
  },
  {
   "cell_type": "code",
   "execution_count": 39,
   "id": "eb1b4a89-2563-4d26-8fd4-cbe659809bd0",
   "metadata": {},
   "outputs": [],
   "source": [
    "print('Training NaiveBayes Classification Model....................')\n",
    "train_pos = all_positive_tweets\n",
    "train_neg = all_negative_tweets\n",
    "train_x = train_pos + train_neg\n",
    "train_y = np.append(np.ones(len(train_pos)), np.zeros(len(train_neg)))\n",
    "def create_frequency(tweets, ys):\n",
    "    freq_d = {}\n",
    "    for tweet, y in zip(tweets, ys): \n",
    "        for word in process_tweet(tweet):\n",
    "            pair = (word, y)\n",
    "            if pair in freq_d:\n",
    "                freq_d[pair] += 1 \n",
    "            else: \n",
    "                freq_d[pair] = freq_d.get(pair, 1)\n",
    "    return freq_d\n",
    "freqs = create_frequency(train_x, train_y)"
   ]
  },
  {
   "cell_type": "code",
   "execution_count": 39,
   "id": "b39a6a35-652f-4a09-9a4d-c5108860fd1c",
   "metadata": {},
   "outputs": [],
   "source": [
    "def train_naive_bayes(freqs, train_x, train_y):\n",
    "    loglikelihood = {}\n",
    "    logprior = 0\n",
    "    unique_words = set([pair[0] for pair in freqs.keys()])\n",
    "    V = len(unique_words)\n",
    "    N_pos = N_neg = 0\n",
    "    for pair in freqs.keys():\n",
    "        if pair[1]>0: \n",
    "            N_pos += freqs[(pair)] \n",
    "        else: \n",
    "            N_neg += freqs[(pair)]\n",
    "            \n",
    "    D = train_y.shape[0]\n",
    "    D_pos = sum(train_y)\n",
    "    D_neg = D - sum(train_y)\n",
    "    logprior = np.log(D_pos) - np.log(D_neg)\n",
    "    for word in unique_words:\n",
    "        freq_pos = freqs.get((word, 1),0)\n",
    "        freq_neg = freqs.get((word, 0),0)\n",
    "        p_w_pos = (freq_pos + 1) / (N_pos + V)\n",
    "        p_w_neg = (freq_neg + 1) / (N_neg +V)\n",
    "        loglikelihood[word] = np.log(p_w_pos / p_w_neg)\n",
    "    return logprior, loglikelihood\n",
    "logprior, loglikelihood = train_naive_bayes(freqs, train_x, train_y) "
   ]
  },
  {
   "cell_type": "code",
   "execution_count": 39,
   "id": "e021f81e-5fe1-497b-980e-5e0bb2b0c1c1",
   "metadata": {},
   "outputs": [
    {
     "name": "stdout",
     "output_type": "stream",
     "text": [
      "Training NaiveBayes Classification Model....................\n",
      "Training of NaiveBayes Classification Model Completed !!!!\n",
      "Finding Sentiment of the given Tweets..........\n",
      "\n",
      "---------------------Result-------------------------\n",
      "Positive tweets percentage: 63.46 %\n",
      "Negative tweets percentage: 33.69 %\n",
      "Neutral tweets percentage: 2.84 %\n"
     ]
    }
   ],
   "source": [
    "def naive_bayes_predict(tweet, logprior, loglikelihood):\n",
    "    word_l = process_tweet(tweet)\n",
    "    p = 0\n",
    "    p += logprior\n",
    "    for word in word_l:\n",
    "        if word in loglikelihood: \n",
    "            p += loglikelihood[word]\n",
    "    return p\n",
    "print('Training of NaiveBayes Classification Model Completed !!!!')\n",
    "print('Finding Sentiment of the given Tweets..........')\n",
    "print()\n",
    "df = pd.read_csv('Tweets.csv') \n",
    "df = df.dropna()\n",
    "sentiment = []\n",
    "for index, tweet in df.iterrows():\n",
    "    # print( '%s -> %f' % (tweet, naive_bayes_predict(tweet, logprior, loglikelihood)))\n",
    "    p = naive_bayes_predict(tweet['text'], logprior, loglikelihood)\n",
    "    sentiment.append(round(p,1))\n",
    "df['sentiment'] = sentiment\n",
    "df.where(df['sentiment'] <0).dropna()\n",
    "df.to_csv('NaiveResult.csv')\n",
    "positiveTweets = df.where(df['sentiment'] > 0)\n",
    "negativeTweets = df.where(df['sentiment'] < 0.0)\n",
    "neutralTweets = df.where(df['sentiment'] == 0.0)\n",
    "positiveTweets = positiveTweets.dropna()\n",
    "negativeTweets = negativeTweets.dropna() \n",
    "neutralTweets = neutralTweets.dropna() \n",
    "print('---------------------Result-------------------------')\n",
    "print(f\"Positive tweets percentage: {(100*len(positiveTweets)/len(df)):.2f} %\")\n",
    "print(f\"Negative tweets percentage: {(100*len(negativeTweets)/len(df)):.2f} %\")\n",
    "print(f\"Neutral tweets percentage: {(100*len(neutralTweets)/len(df)):.2f} %\")"
   ]
  }
 ],
 "metadata": {
  "kernelspec": {
   "display_name": "Python 3 (ipykernel)",
   "language": "python",
   "name": "python3"
  },
  "language_info": {
   "codemirror_mode": {
    "name": "ipython",
    "version": 3
   },
   "file_extension": ".py",
   "mimetype": "text/x-python",
   "name": "python",
   "nbconvert_exporter": "python",
   "pygments_lexer": "ipython3",
   "version": "3.8.8"
  }
 },
 "nbformat": 4,
 "nbformat_minor": 5
}

{
 "cells": [
  {
   "cell_type": "code",
   "execution_count": 36,
   "id": "64b58fde-a6b8-44a5-8584-226da1f612b6",
   "metadata": {},
   "outputs": [],
   "source": [
    "import pandas as pd\n",
    "import re\n",
    "from textblob import TextBlob\n",
    "\n",
    "def clean_tweet(tweet):\n",
    "        '''\n",
    "        Utility function to clean tweet text by removing links, special characters\n",
    "        using simple regex statements.\n",
    "        '''\n",
    "        return ' '.join(re.sub(\"(@[A-Za-z0-9]+)|([^0-9A-Za-z \\t])|(\\w+:\\/\\/\\S+RT)|(http\\S+)|(&amp;)\", \" \", tweet).split())\n",
    "    \n",
    "    \n",
    "def get_tweet_sentiment_using_LexiconMethod(tweet):\n",
    "        '''\n",
    "        Utility function to classify sentiment of passed tweet\n",
    "        using textblob's sentiment method\n",
    "        '''\n",
    "        # create TextBlob object of passed tweet text\n",
    "        analysis = TextBlob(clean_tweet(tweet))\n",
    "        # set sentiment\n",
    "        if analysis.sentiment.polarity > 0:\n",
    "            return 'positive'\n",
    "        elif analysis.sentiment.polarity == 0:\n",
    "            return 'neutral'\n",
    "        else:\n",
    "            return 'negative'\n",
    "        \n",
    "tweetsDataFrame = pd.read_csv('Tweets.csv')\n",
    "lst = [] \n",
    "for index, tweet in tweetsDataFrame.iterrows():\n",
    "    lst1 = {} \n",
    "    lst1['text'] = clean_tweet(tweet['text']) \n",
    "    lst1['sentiment'] = get_tweet_sentiment_using_LexiconMethod(lst1['text']) \n",
    "    lst.append(lst1) \n",
    "tweetSentimentDataFrame = pd.DataFrame(lst)\n",
    "tweetSentimentDataFrame = tweetSentimentDataFrame.drop_duplicates()\n",
    "\n",
    "positiveTweets = tweetSentimentDataFrame.where(tweetSentimentDataFrame['sentiment']=='positive')\n",
    "negativeTweets = tweetSentimentDataFrame.where(tweetSentimentDataFrame['sentiment']=='negative')\n",
    "neutralTweets = tweetSentimentDataFrame.where(tweetSentimentDataFrame['sentiment']=='neutral')\n",
    "\n",
    "positiveTweets = positiveTweets.dropna()\n",
    "negativeTweets = negativeTweets.dropna()\n",
    "neutralTweets = neutralTweets.dropna()\n",
    "\n",
    "print(f\"Positive tweets percentage: {(100*len(positiveTweets)/len(tweetSentimentDataFrame))} %\")\n",
    "print(f\"Negative tweets percentage: {(100*len(negativeTweets)/len(tweetSentimentDataFrame))} %\")\n",
    "print(f\"Neutral tweets percentage: {(100*len(neutralTweets)/len(tweetSentimentDataFrame))} %\")"
   ]
  }
 ],
 "metadata": {
  "kernelspec": {
   "display_name": "Python 3",
   "language": "python",
   "name": "python3"
  },
  "language_info": {
   "codemirror_mode": {
    "name": "ipython",
    "version": 3
   },
   "file_extension": ".py",
   "mimetype": "text/x-python",
   "name": "python",
   "nbconvert_exporter": "python",
   "pygments_lexer": "ipython3",
   "version": "3.8.8"
  }
 },
 "nbformat": 4,
 "nbformat_minor": 5
}
